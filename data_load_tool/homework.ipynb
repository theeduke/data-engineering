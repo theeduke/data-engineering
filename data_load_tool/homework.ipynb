{
 "cells": [
  {
   "cell_type": "code",
   "execution_count": null,
   "id": "ca9fdb81-f52d-4b77-9397-7bb2ef94c6fb",
   "metadata": {},
   "outputs": [],
   "source": [
    "pip install dlt[duckdb]"
   ]
  },
  {
   "cell_type": "code",
   "execution_count": 5,
   "id": "da10f09d-32a4-4a63-824f-9dfbeab065f6",
   "metadata": {},
   "outputs": [
    {
     "name": "stdout",
     "output_type": "stream",
     "text": [
      "1.0\n",
      "1.4142135623730951\n",
      "1.7320508075688772\n",
      "2.0\n",
      "2.23606797749979\n",
      "The sum is: 8.382332347441762\n"
     ]
    }
   ],
   "source": [
    "import math\n",
    "def square_root_generator(limit):\n",
    "    n = 1\n",
    "    while n <= limit:\n",
    "        yield n ** 0.5\n",
    "        n += 1\n",
    "\n",
    "# Example usage:\n",
    "limit = 5\n",
    "generator = square_root_generator(limit)\n",
    "\n",
    "for sqrt_value in generator:\n",
    "    print(sqrt_value)\n",
    "values = list(square_root_generator(limit))\n",
    "s = math.fsum(values)\n",
    "print(f\"The sum is: {s}\")\n",
    "\n",
    "    "
   ]
  },
  {
   "cell_type": "code",
   "execution_count": 7,
   "id": "3602a090-f2ab-4aa6-9733-e0e2cd3e1626",
   "metadata": {},
   "outputs": [
    {
     "name": "stdout",
     "output_type": "stream",
     "text": [
      "{'ID': 1, 'Name': 'Person_1', 'Age': 26, 'City': 'City_A'}\n",
      "{'ID': 2, 'Name': 'Person_2', 'Age': 27, 'City': 'City_A'}\n",
      "{'ID': 3, 'Name': 'Person_3', 'Age': 28, 'City': 'City_A'}\n",
      "{'ID': 4, 'Name': 'Person_4', 'Age': 29, 'City': 'City_A'}\n",
      "{'ID': 5, 'Name': 'Person_5', 'Age': 30, 'City': 'City_A'}\n",
      "{'ID': 3, 'Name': 'Person_3', 'Age': 33, 'City': 'City_B', 'Occupation': 'Job_3'}\n",
      "{'ID': 4, 'Name': 'Person_4', 'Age': 34, 'City': 'City_B', 'Occupation': 'Job_4'}\n",
      "{'ID': 5, 'Name': 'Person_5', 'Age': 35, 'City': 'City_B', 'Occupation': 'Job_5'}\n",
      "{'ID': 6, 'Name': 'Person_6', 'Age': 36, 'City': 'City_B', 'Occupation': 'Job_6'}\n",
      "{'ID': 7, 'Name': 'Person_7', 'Age': 37, 'City': 'City_B', 'Occupation': 'Job_7'}\n",
      "{'ID': 8, 'Name': 'Person_8', 'Age': 38, 'City': 'City_B', 'Occupation': 'Job_8'}\n"
     ]
    }
   ],
   "source": [
    "def people_1():\n",
    "    for i in range(1, 6):\n",
    "        yield {\"ID\": i, \"Name\": f\"Person_{i}\", \"Age\": 25 + i, \"City\": \"City_A\"}\n",
    "\n",
    "for person in people_1():\n",
    "    print(person)\n",
    "\n",
    "\n",
    "def people_2():\n",
    "    for i in range(3, 9):\n",
    "        yield {\"ID\": i, \"Name\": f\"Person_{i}\", \"Age\": 30 + i, \"City\": \"City_B\", \"Occupation\": f\"Job_{i}\"}\n",
    "\n",
    "\n",
    "for person in people_2():\n",
    "    print(person)\n",
    "#ages = sum(Age)\n",
    "#print(\"total ages are: {ages}\")"
   ]
  },
  {
   "cell_type": "code",
   "execution_count": 21,
   "id": "8ffcb70d-ea3e-487f-b8d4-fd68aadac4f1",
   "metadata": {},
   "outputs": [
    {
     "name": "stdout",
     "output_type": "stream",
     "text": [
      "Pipeline dlt_ipykernel_launcher load step completed in 0.40 seconds\n",
      "1 load package(s) were loaded to destination duckdb and into dataset generators\n",
      "The duckdb destination used duckdb:///C:\\Users\\HP\\Documents\\projects\\dlt\\dlt_ipykernel_launcher.duckdb location to store data\n",
      "Load package 1708083661.2317548 is LOADED and contains no failed jobs\n"
     ]
    }
   ],
   "source": [
    "import dlt\n",
    "# define the connection to load to.\n",
    "generator_pipeline = dlt.pipeline(destination='duckdb', dataset_name='generators')\n",
    "# load  generator to a table at the pipeline destination:\n",
    "info = generator_pipeline.run(people_1(),\n",
    "\t\t\t\t\t\t\t\t\t\ttable_name=\"people\",\n",
    "\t\t\t\t\t\t\t\t\t\twrite_disposition=\"replace\")\n",
    "\n",
    "info = generator_pipeline.run(people_2(),\n",
    "\t\t\t\t\t\t\t\t\t\ttable_name=\"people\",\n",
    "\t\t\t\t\t\t\t\t\t\twrite_disposition=\"append\")\n",
    "print(info)\n",
    "     "
   ]
  },
  {
   "cell_type": "code",
   "execution_count": 26,
   "id": "d7838a66-f46b-4d83-8915-57e764e74771",
   "metadata": {},
   "outputs": [
    {
     "data": {
      "text/plain": [
       "┌─────────────────────┐\n",
       "│        name         │\n",
       "│       varchar       │\n",
       "├─────────────────────┤\n",
       "│ _dlt_loads          │\n",
       "│ _dlt_pipeline_state │\n",
       "│ _dlt_version        │\n",
       "│ people              │\n",
       "└─────────────────────┘"
      ]
     },
     "metadata": {},
     "output_type": "display_data"
    },
    {
     "data": {
      "text/plain": [
       "┌───────┬──────────┬───┬────────────────────┬────────────────┬────────────┐\n",
       "│  id   │   name   │ … │    _dlt_load_id    │    _dlt_id     │ occupation │\n",
       "│ int64 │ varchar  │   │      varchar       │    varchar     │  varchar   │\n",
       "├───────┼──────────┼───┼────────────────────┼────────────────┼────────────┤\n",
       "│     1 │ Person_1 │ … │ 1708083660.3192432 │ x6/o5npDz6qqcg │ NULL       │\n",
       "│     2 │ Person_2 │ … │ 1708083660.3192432 │ 5Vt+JDOHlQv7Jg │ NULL       │\n",
       "│     3 │ Person_3 │ … │ 1708083660.3192432 │ qkloC4L+kkd4tA │ NULL       │\n",
       "│     4 │ Person_4 │ … │ 1708083660.3192432 │ 4GoFrJ9OxaTSfg │ NULL       │\n",
       "│     5 │ Person_5 │ … │ 1708083660.3192432 │ VE/nXFvEY1MhwQ │ NULL       │\n",
       "│     3 │ Person_3 │ … │ 1708083661.2317548 │ FJcP83aIOE8KPw │ Job_3      │\n",
       "│     4 │ Person_4 │ … │ 1708083661.2317548 │ +gCXosp1i8/Tng │ Job_4      │\n",
       "│     5 │ Person_5 │ … │ 1708083661.2317548 │ jjJrPD2V77fBXA │ Job_5      │\n",
       "│     6 │ Person_6 │ … │ 1708083661.2317548 │ 7hsEHz0D9Rgczg │ Job_6      │\n",
       "│     7 │ Person_7 │ … │ 1708083661.2317548 │ ubdr07y03aWcKQ │ Job_7      │\n",
       "│     8 │ Person_8 │ … │ 1708083661.2317548 │ GafTF2tGSXtt6A │ Job_8      │\n",
       "├───────┴──────────┴───┴────────────────────┴────────────────┴────────────┤\n",
       "│ 11 rows                                             7 columns (5 shown) │\n",
       "└─────────────────────────────────────────────────────────────────────────┘"
      ]
     },
     "metadata": {},
     "output_type": "display_data"
    }
   ],
   "source": [
    "import duckdb\n",
    "conn = duckdb.connect(f\"{generator_pipeline.pipeline_name}.duckdb\")\n",
    "conn.sql(f\"SET search_path = '{generator_pipeline.dataset_name}'\")\n",
    "display(conn.sql(\"show tables\"))\n",
    "\n",
    "person = conn.sql(\"SELECT * FROM people\")\n",
    "display(person)"
   ]
  },
  {
   "cell_type": "code",
   "execution_count": 29,
   "id": "b675ec58-2ad9-443f-b22b-e29755a45fa2",
   "metadata": {},
   "outputs": [
    {
     "name": "stdout",
     "output_type": "stream",
     "text": [
      "Pipeline dlt_ipykernel_launcher load step completed in 0.40 seconds\n",
      "1 load package(s) were loaded to destination duckdb and into dataset generators\n",
      "The duckdb destination used duckdb:///C:\\Users\\HP\\Documents\\projects\\dlt\\dlt_ipykernel_launcher.duckdb location to store data\n",
      "Load package 1708085135.5012312 is LOADED and contains no failed jobs\n",
      "Pipeline dlt_ipykernel_launcher load step completed in 0.55 seconds\n",
      "1 load package(s) were loaded to destination duckdb and into dataset generators\n",
      "The duckdb destination used duckdb:///C:\\Users\\HP\\Documents\\projects\\dlt\\dlt_ipykernel_launcher.duckdb location to store data\n",
      "Load package 1708085136.6143615 is LOADED and contains no failed jobs\n"
     ]
    },
    {
     "data": {
      "text/plain": [
       "┌─────────────────────┐\n",
       "│        name         │\n",
       "│       varchar       │\n",
       "├─────────────────────┤\n",
       "│ _dlt_loads          │\n",
       "│ _dlt_pipeline_state │\n",
       "│ _dlt_version        │\n",
       "│ merge_people        │\n",
       "│ people              │\n",
       "└─────────────────────┘"
      ]
     },
     "metadata": {},
     "output_type": "display_data"
    }
   ],
   "source": [
    "#new table to merge the two\n",
    "info = generator_pipeline.run(people_1(),\n",
    "\t\t\t\t\t\t\t\t\t\ttable_name=\"merge_people\",\n",
    "\t\t\t\t\t\t\t\t\t\twrite_disposition=\"replace\",\n",
    "                                        primary_key=\"id\")\n",
    "print(info)\n",
    "info = generator_pipeline.run(people_2(),\n",
    "\t\t\t\t\t\t\t\t\t\ttable_name=\"merge_people\",\n",
    "\t\t\t\t\t\t\t\t\t\twrite_disposition=\"merge\",\n",
    "                                        primary_key=\"id\")\n",
    "print(info)\n",
    "#display all tables\n",
    "display(conn.sql(\"show tables\"))"
   ]
  },
  {
   "cell_type": "code",
   "execution_count": 35,
   "id": "837df72e-3ffd-4b07-8729-6ec1b45c9156",
   "metadata": {},
   "outputs": [
    {
     "data": {
      "text/plain": [
       "┌───────┬───────┐\n",
       "│  id   │  age  │\n",
       "│ int64 │ int64 │\n",
       "├───────┼───────┤\n",
       "│     1 │    26 │\n",
       "│     2 │    27 │\n",
       "│     3 │    33 │\n",
       "│     4 │    34 │\n",
       "│     5 │    35 │\n",
       "│     6 │    36 │\n",
       "│     7 │    37 │\n",
       "│     8 │    38 │\n",
       "└───────┴───────┘"
      ]
     },
     "metadata": {},
     "output_type": "display_data"
    }
   ],
   "source": [
    "data = conn.sql(\"SELECT id, age From merge_people Order by ID ASC\")\n",
    "display(data)"
   ]
  },
  {
   "cell_type": "code",
   "execution_count": 38,
   "id": "528e1430-69dc-4b0e-83f8-d98bb087910b",
   "metadata": {},
   "outputs": [
    {
     "data": {
      "text/plain": [
       "┌──────────┐\n",
       "│ sum(age) │\n",
       "│  int128  │\n",
       "├──────────┤\n",
       "│      353 │\n",
       "└──────────┘"
      ]
     },
     "metadata": {},
     "output_type": "display_data"
    },
    {
     "data": {
      "text/plain": [
       "┌──────────┐\n",
       "│ sum(age) │\n",
       "│  int128  │\n",
       "├──────────┤\n",
       "│      266 │\n",
       "└──────────┘"
      ]
     },
     "metadata": {},
     "output_type": "display_data"
    }
   ],
   "source": [
    "#total ages for unmerged table\n",
    "ages1=conn.sql(\"SELECT sum(age) FROM people\")\n",
    "display(ages1)\n",
    "\n",
    "#total ages for merged table\n",
    "ages2=conn.sql(\"SELECT sum(age) FROM merge_people\")\n",
    "display(ages2)"
   ]
  }
 ],
 "metadata": {
  "kernelspec": {
   "display_name": "Python 3 (ipykernel)",
   "language": "python",
   "name": "python3"
  },
  "language_info": {
   "codemirror_mode": {
    "name": "ipython",
    "version": 3
   },
   "file_extension": ".py",
   "mimetype": "text/x-python",
   "name": "python",
   "nbconvert_exporter": "python",
   "pygments_lexer": "ipython3",
   "version": "3.10.5"
  }
 },
 "nbformat": 4,
 "nbformat_minor": 5
}
