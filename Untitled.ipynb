{
 "cells": [
  {
   "cell_type": "code",
   "execution_count": 1,
   "id": "b1e616c3-0055-47a3-8fbc-4eb65afa97f5",
   "metadata": {},
   "outputs": [
    {
     "name": "stdout",
     "output_type": "stream",
     "text": [
      "helllo world\n"
     ]
    }
   ],
   "source": [
    "print('helllo world')"
   ]
  },
  {
   "cell_type": "code",
   "execution_count": null,
   "id": "1a5f7d4d-4fe9-4266-b1b7-5f5f3cfda27b",
   "metadata": {},
   "outputs": [],
   "source": []
  }
 ],
 "metadata": {
  "kernelspec": {
   "display_name": "Python 3 (ipykernel)",
   "language": "python",
   "name": "python3"
  },
  "language_info": {
   "codemirror_mode": {
    "name": "ipython",
    "version": 3
   },
   "file_extension": ".py",
   "mimetype": "text/x-python",
   "name": "python",
   "nbconvert_exporter": "python",
   "pygments_lexer": "ipython3",
   "version": "3.10.13"
  }
 },
 "nbformat": 4,
 "nbformat_minor": 5
}
